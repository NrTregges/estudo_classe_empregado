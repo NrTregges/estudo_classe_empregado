{
 "cells": [
  {
   "cell_type": "markdown",
   "id": "5a76f23f",
   "metadata": {},
   "source": [
    "# Criando classe Empregado\n"
   ]
  },
  {
   "cell_type": "code",
   "execution_count": 10,
   "id": "a937c4ac",
   "metadata": {},
   "outputs": [],
   "source": [
    "class Empregado: \n",
    "    def __init__(self, cpf, nome):\n",
    "        self.cpf = cpf\n",
    "        sel.nome = nome\n",
    "\n",
    "    def trabalhar(self):\n",
    "        print(\"Estou trabalhando.\")\n",
    "        \n",
    "        \n",
    "class Gerente(Empregado): \n",
    "    def __init__(self, cpf, nome, nivel):\n",
    "        super.__init__(cpf, nome)\n",
    "        self.nivel = nivel\n",
    "        \n",
    "    def Trabalhar(self):\n",
    "        print(\"Estou coordenando\")\n",
    "        \n",
    "class Analista(Empregado):\n",
    "    def __init__ (self, cpf, nome, nivel):\n",
    "        super.__init__(cpf, nome)\n",
    "        self.nivel = nivel\n",
    "        \n",
    "    def Trabalhar(self):\n",
    "        print(\"Estou analizando\")\n",
    "        "
   ]
  },
  {
   "cell_type": "code",
   "execution_count": null,
   "id": "ea691eab",
   "metadata": {},
   "outputs": [],
   "source": []
  }
 ],
 "metadata": {
  "kernelspec": {
   "display_name": "Python 3 (ipykernel)",
   "language": "python",
   "name": "python3"
  },
  "language_info": {
   "codemirror_mode": {
    "name": "ipython",
    "version": 3
   },
   "file_extension": ".py",
   "mimetype": "text/x-python",
   "name": "python",
   "nbconvert_exporter": "python",
   "pygments_lexer": "ipython3",
   "version": "3.10.9"
  }
 },
 "nbformat": 4,
 "nbformat_minor": 5
}
